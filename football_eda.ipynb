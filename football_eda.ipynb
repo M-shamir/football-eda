{
 "cells": [
  {
   "cell_type": "code",
   "execution_count": 13,
   "metadata": {},
   "outputs": [],
   "source": [
    "import pandas as pd"
   ]
  },
  {
   "cell_type": "code",
   "execution_count": 14,
   "metadata": {},
   "outputs": [],
   "source": [
    "df = pd.read_csv('results.csv')"
   ]
  },
  {
   "cell_type": "code",
   "execution_count": 15,
   "metadata": {},
   "outputs": [
    {
     "name": "stdout",
     "output_type": "stream",
     "text": [
      "         date home_team away_team  home_score  away_score tournament     city  \\\n",
      "0  1872-11-30  Scotland   England           0           0   Friendly  Glasgow   \n",
      "1  1873-03-08   England  Scotland           4           2   Friendly   London   \n",
      "2  1874-03-07  Scotland   England           2           1   Friendly  Glasgow   \n",
      "3  1875-03-06   England  Scotland           2           2   Friendly   London   \n",
      "4  1876-03-04  Scotland   England           3           0   Friendly  Glasgow   \n",
      "\n",
      "    country  neutral  \n",
      "0  Scotland    False  \n",
      "1   England    False  \n",
      "2  Scotland    False  \n",
      "3   England    False  \n",
      "4  Scotland    False  \n"
     ]
    }
   ],
   "source": [
    "print(df.head())"
   ]
  },
  {
   "cell_type": "code",
   "execution_count": 17,
   "metadata": {},
   "outputs": [
    {
     "name": "stdout",
     "output_type": "stream",
     "text": [
      "<class 'pandas.core.frame.DataFrame'>\n",
      "RangeIndex: 48207 entries, 0 to 48206\n",
      "Data columns (total 9 columns):\n",
      " #   Column      Non-Null Count  Dtype \n",
      "---  ------      --------------  ----- \n",
      " 0   date        48207 non-null  object\n",
      " 1   home_team   48207 non-null  object\n",
      " 2   away_team   48207 non-null  object\n",
      " 3   home_score  48207 non-null  int64 \n",
      " 4   away_score  48207 non-null  int64 \n",
      " 5   tournament  48207 non-null  object\n",
      " 6   city        48207 non-null  object\n",
      " 7   country     48207 non-null  object\n",
      " 8   neutral     48207 non-null  bool  \n",
      "dtypes: bool(1), int64(2), object(6)\n",
      "memory usage: 3.0+ MB\n",
      "None\n"
     ]
    }
   ],
   "source": [
    "print(df.info())"
   ]
  },
  {
   "cell_type": "code",
   "execution_count": 18,
   "metadata": {},
   "outputs": [
    {
     "name": "stdout",
     "output_type": "stream",
     "text": [
      "0\n"
     ]
    }
   ],
   "source": [
    "print(df.duplicated().sum())"
   ]
  },
  {
   "cell_type": "code",
   "execution_count": 19,
   "metadata": {},
   "outputs": [
    {
     "name": "stdout",
     "output_type": "stream",
     "text": [
      "date          0\n",
      "home_team     0\n",
      "away_team     0\n",
      "home_score    0\n",
      "away_score    0\n",
      "tournament    0\n",
      "city          0\n",
      "country       0\n",
      "neutral       0\n",
      "dtype: int64\n"
     ]
    }
   ],
   "source": [
    "print(df.isnull().sum())"
   ]
  },
  {
   "cell_type": "code",
   "execution_count": 20,
   "metadata": {},
   "outputs": [],
   "source": [
    "df['date'] =  pd.to_datetime(df['date'])"
   ]
  },
  {
   "cell_type": "code",
   "execution_count": 24,
   "metadata": {},
   "outputs": [
    {
     "name": "stdout",
     "output_type": "stream",
     "text": [
      "Total matches 48207\n"
     ]
    }
   ],
   "source": [
    "print(\"Total matches\",df.shape[0])"
   ]
  },
  {
   "cell_type": "code",
   "execution_count": 25,
   "metadata": {},
   "outputs": [],
   "source": [
    "home = df['home_team'].value_counts()"
   ]
  },
  {
   "cell_type": "code",
   "execution_count": 27,
   "metadata": {},
   "outputs": [
    {
     "name": "stdout",
     "output_type": "stream",
     "text": [
      "home_team\n",
      "Brazil         606\n",
      "Argentina      596\n",
      "Mexico         584\n",
      "Germany        547\n",
      "South Korea    544\n",
      "Name: count, dtype: int64\n"
     ]
    }
   ],
   "source": [
    "print(home.head())"
   ]
  },
  {
   "cell_type": "code",
   "execution_count": 28,
   "metadata": {},
   "outputs": [],
   "source": [
    "away = df['away_team'].value_counts()"
   ]
  },
  {
   "cell_type": "code",
   "execution_count": 29,
   "metadata": {},
   "outputs": [
    {
     "name": "stdout",
     "output_type": "stream",
     "text": [
      "away_team\n",
      "Uruguay          576\n",
      "Sweden           561\n",
      "England          536\n",
      "Hungary          503\n",
      "Paraguay         487\n",
      "                ... \n",
      "Asturias           1\n",
      "Central Spain      1\n",
      "Biafra             1\n",
      "Aymara             1\n",
      "Ticino             1\n",
      "Name: count, Length: 317, dtype: int64\n"
     ]
    }
   ],
   "source": [
    "print(away)"
   ]
  },
  {
   "cell_type": "code",
   "execution_count": 31,
   "metadata": {},
   "outputs": [],
   "source": [
    "total = home.add(away,fill_value=0).sort_values(ascending=False)"
   ]
  },
  {
   "cell_type": "code",
   "execution_count": 32,
   "metadata": {},
   "outputs": [
    {
     "name": "stdout",
     "output_type": "stream",
     "text": [
      "Sweden       1089.0\n",
      "England      1078.0\n",
      "Argentina    1055.0\n",
      "Brazil       1047.0\n",
      "Germany      1019.0\n",
      "              ...  \n",
      "Ryūkyū          1.0\n",
      "Cilento         1.0\n",
      "Surrey          1.0\n",
      "Saugeais        1.0\n",
      "Seborga         1.0\n",
      "Name: count, Length: 332, dtype: float64\n"
     ]
    }
   ],
   "source": [
    "print(total)"
   ]
  },
  {
   "cell_type": "code",
   "execution_count": 34,
   "metadata": {},
   "outputs": [
    {
     "name": "stdout",
     "output_type": "stream",
     "text": [
      "Axes(0.125,0.11;0.775x0.77)\n"
     ]
    },
    {
     "data": {
      "image/png": "[encoded data removed]",
      "text/plain": [
       "<Figure size 640x480 with 1 Axes>"
      ]
     },
     "metadata": {},
     "output_type": "display_data"
    }
   ],
   "source": [
    "print(df['tournament'].value_counts().head(10).plot(kind='barh',title='Most Played Tournaments'))"
   ]
  },
  {
   "cell_type": "code",
   "execution_count": 35,
   "metadata": {},
   "outputs": [
    {
     "name": "stdout",
     "output_type": "stream",
     "text": [
      "home 1.7598896425830273\n"
     ]
    }
   ],
   "source": [
    "print('home',df['home_score'].mean())"
   ]
  },
  {
   "cell_type": "code",
   "execution_count": 38,
   "metadata": {},
   "outputs": [
    {
     "name": "stdout",
     "output_type": "stream",
     "text": [
      "away 1.1820482502541125\n"
     ]
    }
   ],
   "source": [
    "print('away',df['away_score'].mean())"
   ]
  }
 ],
 "metadata": {
  "kernelspec": {
   "display_name": "env",
   "language": "python",
   "name": "python3"
  },
  "language_info": {
   "codemirror_mode": {
    "name": "ipython",
    "version": 3
   },
   "file_extension": ".py",
   "mimetype": "text/x-python",
   "name": "python",
   "nbconvert_exporter": "python",
   "pygments_lexer": "ipython3",
   "version": "3.12.3"
  }
 },
 "nbformat": 4,
 "nbformat_minor": 2
}
